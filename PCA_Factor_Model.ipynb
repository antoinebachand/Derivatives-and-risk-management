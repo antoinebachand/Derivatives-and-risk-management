{
  "nbformat": 4,
  "nbformat_minor": 0,
  "metadata": {
    "colab": {
      "name": "PCA_Factor_Model.ipynb",
      "provenance": [],
      "authorship_tag": "ABX9TyPDNokH9CUwEPRSA6l5nw0W",
      "include_colab_link": true
    },
    "kernelspec": {
      "name": "python3",
      "display_name": "Python 3"
    },
    "language_info": {
      "name": "python"
    }
  },
  "cells": [
    {
      "cell_type": "markdown",
      "metadata": {
        "id": "view-in-github",
        "colab_type": "text"
      },
      "source": [
        "<a href=\"https://colab.research.google.com/github/antoinebachand/Derivatives-and-risk-management/blob/main/PCA_Factor_Model.ipynb\" target=\"_parent\"><img src=\"https://colab.research.google.com/assets/colab-badge.svg\" alt=\"Open In Colab\"/></a>"
      ]
    },
    {
      "cell_type": "markdown",
      "source": [
        "#Dimension Reduction"
      ],
      "metadata": {
        "id": "S8HUzcGCC_bU"
      }
    },
    {
      "cell_type": "code",
      "execution_count": 3,
      "metadata": {
        "id": "3KyPv6v1CcVV"
      },
      "outputs": [],
      "source": [
        "import pandas as pd\n",
        "import matplotlib.pyplot as plt\n",
        "import numpy as np\n",
        "import seaborn as sb "
      ]
    },
    {
      "cell_type": "code",
      "source": [
        "# Import the close prices\n",
        "df = pd.read_excel('Data.xlsx', header=0, index_col=False, keep_default_na=True)\n",
        "df.head()"
      ],
      "metadata": {
        "id": "h_9qK6IxDBn1"
      },
      "execution_count": null,
      "outputs": []
    },
    {
      "cell_type": "code",
      "source": [
        "# Create the returns series\n",
        "returns = (np.log(df).diff()).dropna()\n",
        "returns.head()"
      ],
      "metadata": {
        "colab": {
          "base_uri": "https://localhost:8080/",
          "height": 206
        },
        "id": "Ktsvi8oOEa7O",
        "outputId": "b35e6480-3f8d-4a52-f192-001834f7b661"
      },
      "execution_count": 15,
      "outputs": [
        {
          "output_type": "execute_result",
          "data": {
            "text/html": [
              "\n",
              "  <div id=\"df-ac196052-a061-48d5-8dc2-a901672ca842\">\n",
              "    <div class=\"colab-df-container\">\n",
              "      <div>\n",
              "<style scoped>\n",
              "    .dataframe tbody tr th:only-of-type {\n",
              "        vertical-align: middle;\n",
              "    }\n",
              "\n",
              "    .dataframe tbody tr th {\n",
              "        vertical-align: top;\n",
              "    }\n",
              "\n",
              "    .dataframe thead th {\n",
              "        text-align: right;\n",
              "    }\n",
              "</style>\n",
              "<table border=\"1\" class=\"dataframe\">\n",
              "  <thead>\n",
              "    <tr style=\"text-align: right;\">\n",
              "      <th></th>\n",
              "      <th>DIS</th>\n",
              "      <th>IBM</th>\n",
              "      <th>INTC</th>\n",
              "      <th>MCD</th>\n",
              "      <th>MSFT</th>\n",
              "      <th>WMT</th>\n",
              "      <th>^DJI</th>\n",
              "    </tr>\n",
              "  </thead>\n",
              "  <tbody>\n",
              "    <tr>\n",
              "      <th>1</th>\n",
              "      <td>0.026611</td>\n",
              "      <td>0.001384</td>\n",
              "      <td>-0.004988</td>\n",
              "      <td>0.003180</td>\n",
              "      <td>-0.008810</td>\n",
              "      <td>-0.023530</td>\n",
              "      <td>0.009131</td>\n",
              "    </tr>\n",
              "    <tr>\n",
              "      <th>2</th>\n",
              "      <td>0.007326</td>\n",
              "      <td>0.020535</td>\n",
              "      <td>-0.015113</td>\n",
              "      <td>0.021979</td>\n",
              "      <td>0.030503</td>\n",
              "      <td>-0.017468</td>\n",
              "      <td>-0.000437</td>\n",
              "    </tr>\n",
              "    <tr>\n",
              "      <th>3</th>\n",
              "      <td>0.001042</td>\n",
              "      <td>0.025419</td>\n",
              "      <td>0.044672</td>\n",
              "      <td>0.021506</td>\n",
              "      <td>0.029601</td>\n",
              "      <td>-0.004415</td>\n",
              "      <td>0.001468</td>\n",
              "    </tr>\n",
              "    <tr>\n",
              "      <th>4</th>\n",
              "      <td>0.020619</td>\n",
              "      <td>-0.024065</td>\n",
              "      <td>0.014458</td>\n",
              "      <td>0.000000</td>\n",
              "      <td>0.034804</td>\n",
              "      <td>0.008811</td>\n",
              "      <td>-0.000281</td>\n",
              "    </tr>\n",
              "    <tr>\n",
              "      <th>5</th>\n",
              "      <td>0.043919</td>\n",
              "      <td>-0.012253</td>\n",
              "      <td>0.023641</td>\n",
              "      <td>0.041673</td>\n",
              "      <td>0.023858</td>\n",
              "      <td>0.000000</td>\n",
              "      <td>0.001746</td>\n",
              "    </tr>\n",
              "  </tbody>\n",
              "</table>\n",
              "</div>\n",
              "      <button class=\"colab-df-convert\" onclick=\"convertToInteractive('df-ac196052-a061-48d5-8dc2-a901672ca842')\"\n",
              "              title=\"Convert this dataframe to an interactive table.\"\n",
              "              style=\"display:none;\">\n",
              "        \n",
              "  <svg xmlns=\"http://www.w3.org/2000/svg\" height=\"24px\"viewBox=\"0 0 24 24\"\n",
              "       width=\"24px\">\n",
              "    <path d=\"M0 0h24v24H0V0z\" fill=\"none\"/>\n",
              "    <path d=\"M18.56 5.44l.94 2.06.94-2.06 2.06-.94-2.06-.94-.94-2.06-.94 2.06-2.06.94zm-11 1L8.5 8.5l.94-2.06 2.06-.94-2.06-.94L8.5 2.5l-.94 2.06-2.06.94zm10 10l.94 2.06.94-2.06 2.06-.94-2.06-.94-.94-2.06-.94 2.06-2.06.94z\"/><path d=\"M17.41 7.96l-1.37-1.37c-.4-.4-.92-.59-1.43-.59-.52 0-1.04.2-1.43.59L10.3 9.45l-7.72 7.72c-.78.78-.78 2.05 0 2.83L4 21.41c.39.39.9.59 1.41.59.51 0 1.02-.2 1.41-.59l7.78-7.78 2.81-2.81c.8-.78.8-2.07 0-2.86zM5.41 20L4 18.59l7.72-7.72 1.47 1.35L5.41 20z\"/>\n",
              "  </svg>\n",
              "      </button>\n",
              "      \n",
              "  <style>\n",
              "    .colab-df-container {\n",
              "      display:flex;\n",
              "      flex-wrap:wrap;\n",
              "      gap: 12px;\n",
              "    }\n",
              "\n",
              "    .colab-df-convert {\n",
              "      background-color: #E8F0FE;\n",
              "      border: none;\n",
              "      border-radius: 50%;\n",
              "      cursor: pointer;\n",
              "      display: none;\n",
              "      fill: #1967D2;\n",
              "      height: 32px;\n",
              "      padding: 0 0 0 0;\n",
              "      width: 32px;\n",
              "    }\n",
              "\n",
              "    .colab-df-convert:hover {\n",
              "      background-color: #E2EBFA;\n",
              "      box-shadow: 0px 1px 2px rgba(60, 64, 67, 0.3), 0px 1px 3px 1px rgba(60, 64, 67, 0.15);\n",
              "      fill: #174EA6;\n",
              "    }\n",
              "\n",
              "    [theme=dark] .colab-df-convert {\n",
              "      background-color: #3B4455;\n",
              "      fill: #D2E3FC;\n",
              "    }\n",
              "\n",
              "    [theme=dark] .colab-df-convert:hover {\n",
              "      background-color: #434B5C;\n",
              "      box-shadow: 0px 1px 3px 1px rgba(0, 0, 0, 0.15);\n",
              "      filter: drop-shadow(0px 1px 2px rgba(0, 0, 0, 0.3));\n",
              "      fill: #FFFFFF;\n",
              "    }\n",
              "  </style>\n",
              "\n",
              "      <script>\n",
              "        const buttonEl =\n",
              "          document.querySelector('#df-ac196052-a061-48d5-8dc2-a901672ca842 button.colab-df-convert');\n",
              "        buttonEl.style.display =\n",
              "          google.colab.kernel.accessAllowed ? 'block' : 'none';\n",
              "\n",
              "        async function convertToInteractive(key) {\n",
              "          const element = document.querySelector('#df-ac196052-a061-48d5-8dc2-a901672ca842');\n",
              "          const dataTable =\n",
              "            await google.colab.kernel.invokeFunction('convertToInteractive',\n",
              "                                                     [key], {});\n",
              "          if (!dataTable) return;\n",
              "\n",
              "          const docLinkHtml = 'Like what you see? Visit the ' +\n",
              "            '<a target=\"_blank\" href=https://colab.research.google.com/notebooks/data_table.ipynb>data table notebook</a>'\n",
              "            + ' to learn more about interactive tables.';\n",
              "          element.innerHTML = '';\n",
              "          dataTable['output_type'] = 'display_data';\n",
              "          await google.colab.output.renderOutput(dataTable, element);\n",
              "          const docLink = document.createElement('div');\n",
              "          docLink.innerHTML = docLinkHtml;\n",
              "          element.appendChild(docLink);\n",
              "        }\n",
              "      </script>\n",
              "    </div>\n",
              "  </div>\n",
              "  "
            ],
            "text/plain": [
              "        DIS       IBM      INTC       MCD      MSFT       WMT      ^DJI\n",
              "1  0.026611  0.001384 -0.004988  0.003180 -0.008810 -0.023530  0.009131\n",
              "2  0.007326  0.020535 -0.015113  0.021979  0.030503 -0.017468 -0.000437\n",
              "3  0.001042  0.025419  0.044672  0.021506  0.029601 -0.004415  0.001468\n",
              "4  0.020619 -0.024065  0.014458  0.000000  0.034804  0.008811 -0.000281\n",
              "5  0.043919 -0.012253  0.023641  0.041673  0.023858  0.000000  0.001746"
            ]
          },
          "metadata": {},
          "execution_count": 15
        }
      ]
    },
    {
      "cell_type": "code",
      "source": [
        "# First lets see the correlation\n",
        "returns.corr()"
      ],
      "metadata": {
        "colab": {
          "base_uri": "https://localhost:8080/",
          "height": 269
        },
        "id": "Fhcp4yYyrj1J",
        "outputId": "ca00b049-1eda-4c8b-bbdc-5bab9d065236"
      },
      "execution_count": 17,
      "outputs": [
        {
          "output_type": "execute_result",
          "data": {
            "text/html": [
              "\n",
              "  <div id=\"df-c8ace6b0-1532-424c-b49f-ce02c6ef5bb8\">\n",
              "    <div class=\"colab-df-container\">\n",
              "      <div>\n",
              "<style scoped>\n",
              "    .dataframe tbody tr th:only-of-type {\n",
              "        vertical-align: middle;\n",
              "    }\n",
              "\n",
              "    .dataframe tbody tr th {\n",
              "        vertical-align: top;\n",
              "    }\n",
              "\n",
              "    .dataframe thead th {\n",
              "        text-align: right;\n",
              "    }\n",
              "</style>\n",
              "<table border=\"1\" class=\"dataframe\">\n",
              "  <thead>\n",
              "    <tr style=\"text-align: right;\">\n",
              "      <th></th>\n",
              "      <th>DIS</th>\n",
              "      <th>IBM</th>\n",
              "      <th>INTC</th>\n",
              "      <th>MCD</th>\n",
              "      <th>MSFT</th>\n",
              "      <th>WMT</th>\n",
              "      <th>^DJI</th>\n",
              "    </tr>\n",
              "  </thead>\n",
              "  <tbody>\n",
              "    <tr>\n",
              "      <th>DIS</th>\n",
              "      <td>1.000000</td>\n",
              "      <td>0.196704</td>\n",
              "      <td>0.214451</td>\n",
              "      <td>0.257100</td>\n",
              "      <td>0.261664</td>\n",
              "      <td>0.281931</td>\n",
              "      <td>0.513289</td>\n",
              "    </tr>\n",
              "    <tr>\n",
              "      <th>IBM</th>\n",
              "      <td>0.196704</td>\n",
              "      <td>1.000000</td>\n",
              "      <td>0.355395</td>\n",
              "      <td>0.203228</td>\n",
              "      <td>0.328527</td>\n",
              "      <td>0.200619</td>\n",
              "      <td>0.476310</td>\n",
              "    </tr>\n",
              "    <tr>\n",
              "      <th>INTC</th>\n",
              "      <td>0.214451</td>\n",
              "      <td>0.355395</td>\n",
              "      <td>1.000000</td>\n",
              "      <td>0.186800</td>\n",
              "      <td>0.531728</td>\n",
              "      <td>0.223936</td>\n",
              "      <td>0.407301</td>\n",
              "    </tr>\n",
              "    <tr>\n",
              "      <th>MCD</th>\n",
              "      <td>0.257100</td>\n",
              "      <td>0.203228</td>\n",
              "      <td>0.186800</td>\n",
              "      <td>1.000000</td>\n",
              "      <td>0.224577</td>\n",
              "      <td>0.264544</td>\n",
              "      <td>0.479322</td>\n",
              "    </tr>\n",
              "    <tr>\n",
              "      <th>MSFT</th>\n",
              "      <td>0.261664</td>\n",
              "      <td>0.328527</td>\n",
              "      <td>0.531728</td>\n",
              "      <td>0.224577</td>\n",
              "      <td>1.000000</td>\n",
              "      <td>0.279115</td>\n",
              "      <td>0.457129</td>\n",
              "    </tr>\n",
              "    <tr>\n",
              "      <th>WMT</th>\n",
              "      <td>0.281931</td>\n",
              "      <td>0.200619</td>\n",
              "      <td>0.223936</td>\n",
              "      <td>0.264544</td>\n",
              "      <td>0.279115</td>\n",
              "      <td>1.000000</td>\n",
              "      <td>0.486588</td>\n",
              "    </tr>\n",
              "    <tr>\n",
              "      <th>^DJI</th>\n",
              "      <td>0.513289</td>\n",
              "      <td>0.476310</td>\n",
              "      <td>0.407301</td>\n",
              "      <td>0.479322</td>\n",
              "      <td>0.457129</td>\n",
              "      <td>0.486588</td>\n",
              "      <td>1.000000</td>\n",
              "    </tr>\n",
              "  </tbody>\n",
              "</table>\n",
              "</div>\n",
              "      <button class=\"colab-df-convert\" onclick=\"convertToInteractive('df-c8ace6b0-1532-424c-b49f-ce02c6ef5bb8')\"\n",
              "              title=\"Convert this dataframe to an interactive table.\"\n",
              "              style=\"display:none;\">\n",
              "        \n",
              "  <svg xmlns=\"http://www.w3.org/2000/svg\" height=\"24px\"viewBox=\"0 0 24 24\"\n",
              "       width=\"24px\">\n",
              "    <path d=\"M0 0h24v24H0V0z\" fill=\"none\"/>\n",
              "    <path d=\"M18.56 5.44l.94 2.06.94-2.06 2.06-.94-2.06-.94-.94-2.06-.94 2.06-2.06.94zm-11 1L8.5 8.5l.94-2.06 2.06-.94-2.06-.94L8.5 2.5l-.94 2.06-2.06.94zm10 10l.94 2.06.94-2.06 2.06-.94-2.06-.94-.94-2.06-.94 2.06-2.06.94z\"/><path d=\"M17.41 7.96l-1.37-1.37c-.4-.4-.92-.59-1.43-.59-.52 0-1.04.2-1.43.59L10.3 9.45l-7.72 7.72c-.78.78-.78 2.05 0 2.83L4 21.41c.39.39.9.59 1.41.59.51 0 1.02-.2 1.41-.59l7.78-7.78 2.81-2.81c.8-.78.8-2.07 0-2.86zM5.41 20L4 18.59l7.72-7.72 1.47 1.35L5.41 20z\"/>\n",
              "  </svg>\n",
              "      </button>\n",
              "      \n",
              "  <style>\n",
              "    .colab-df-container {\n",
              "      display:flex;\n",
              "      flex-wrap:wrap;\n",
              "      gap: 12px;\n",
              "    }\n",
              "\n",
              "    .colab-df-convert {\n",
              "      background-color: #E8F0FE;\n",
              "      border: none;\n",
              "      border-radius: 50%;\n",
              "      cursor: pointer;\n",
              "      display: none;\n",
              "      fill: #1967D2;\n",
              "      height: 32px;\n",
              "      padding: 0 0 0 0;\n",
              "      width: 32px;\n",
              "    }\n",
              "\n",
              "    .colab-df-convert:hover {\n",
              "      background-color: #E2EBFA;\n",
              "      box-shadow: 0px 1px 2px rgba(60, 64, 67, 0.3), 0px 1px 3px 1px rgba(60, 64, 67, 0.15);\n",
              "      fill: #174EA6;\n",
              "    }\n",
              "\n",
              "    [theme=dark] .colab-df-convert {\n",
              "      background-color: #3B4455;\n",
              "      fill: #D2E3FC;\n",
              "    }\n",
              "\n",
              "    [theme=dark] .colab-df-convert:hover {\n",
              "      background-color: #434B5C;\n",
              "      box-shadow: 0px 1px 3px 1px rgba(0, 0, 0, 0.15);\n",
              "      filter: drop-shadow(0px 1px 2px rgba(0, 0, 0, 0.3));\n",
              "      fill: #FFFFFF;\n",
              "    }\n",
              "  </style>\n",
              "\n",
              "      <script>\n",
              "        const buttonEl =\n",
              "          document.querySelector('#df-c8ace6b0-1532-424c-b49f-ce02c6ef5bb8 button.colab-df-convert');\n",
              "        buttonEl.style.display =\n",
              "          google.colab.kernel.accessAllowed ? 'block' : 'none';\n",
              "\n",
              "        async function convertToInteractive(key) {\n",
              "          const element = document.querySelector('#df-c8ace6b0-1532-424c-b49f-ce02c6ef5bb8');\n",
              "          const dataTable =\n",
              "            await google.colab.kernel.invokeFunction('convertToInteractive',\n",
              "                                                     [key], {});\n",
              "          if (!dataTable) return;\n",
              "\n",
              "          const docLinkHtml = 'Like what you see? Visit the ' +\n",
              "            '<a target=\"_blank\" href=https://colab.research.google.com/notebooks/data_table.ipynb>data table notebook</a>'\n",
              "            + ' to learn more about interactive tables.';\n",
              "          element.innerHTML = '';\n",
              "          dataTable['output_type'] = 'display_data';\n",
              "          await google.colab.output.renderOutput(dataTable, element);\n",
              "          const docLink = document.createElement('div');\n",
              "          docLink.innerHTML = docLinkHtml;\n",
              "          element.appendChild(docLink);\n",
              "        }\n",
              "      </script>\n",
              "    </div>\n",
              "  </div>\n",
              "  "
            ],
            "text/plain": [
              "           DIS       IBM      INTC       MCD      MSFT       WMT      ^DJI\n",
              "DIS   1.000000  0.196704  0.214451  0.257100  0.261664  0.281931  0.513289\n",
              "IBM   0.196704  1.000000  0.355395  0.203228  0.328527  0.200619  0.476310\n",
              "INTC  0.214451  0.355395  1.000000  0.186800  0.531728  0.223936  0.407301\n",
              "MCD   0.257100  0.203228  0.186800  1.000000  0.224577  0.264544  0.479322\n",
              "MSFT  0.261664  0.328527  0.531728  0.224577  1.000000  0.279115  0.457129\n",
              "WMT   0.281931  0.200619  0.223936  0.264544  0.279115  1.000000  0.486588\n",
              "^DJI  0.513289  0.476310  0.407301  0.479322  0.457129  0.486588  1.000000"
            ]
          },
          "metadata": {},
          "execution_count": 17
        }
      ]
    },
    {
      "cell_type": "markdown",
      "source": [
        "#Factor Model"
      ],
      "metadata": {
        "id": "34HVc30HxG-A"
      }
    },
    {
      "cell_type": "code",
      "source": [
        "# First lets see what are the individual r saquare\n",
        "plt.scatter(x=returns['^DJI'], y=returns['DIS'])"
      ],
      "metadata": {
        "colab": {
          "base_uri": "https://localhost:8080/",
          "height": 282
        },
        "id": "044bcXqcxPY2",
        "outputId": "0757327f-cc40-4b32-fa8d-c05a5c79487b"
      },
      "execution_count": 21,
      "outputs": [
        {
          "output_type": "execute_result",
          "data": {
            "text/plain": [
              "<matplotlib.collections.PathCollection at 0x7fd249384190>"
            ]
          },
          "metadata": {},
          "execution_count": 21
        },
        {
          "output_type": "display_data",
          "data": {
            "image/png": "[encoded data removed]",
            "text/plain": [
              "<Figure size 432x288 with 1 Axes>"
            ]
          },
          "metadata": {
            "needs_background": "light"
          }
        }
      ]
    },
    {
      "cell_type": "code",
      "source": [
        "reg = np.polyfit(returns['^DJI'], returns['DIS'],deg = 1)\n",
        "reg\n"
      ],
      "metadata": {
        "colab": {
          "base_uri": "https://localhost:8080/"
        },
        "id": "4hnmZdjqx95r",
        "outputId": "0d293324-2957-4c59-cb23-a623eb2a77b2"
      },
      "execution_count": 22,
      "outputs": [
        {
          "output_type": "execute_result",
          "data": {
            "text/plain": [
              "array([1.02946675e+00, 1.41455729e-05])"
            ]
          },
          "metadata": {},
          "execution_count": 22
        }
      ]
    }
  ]
}