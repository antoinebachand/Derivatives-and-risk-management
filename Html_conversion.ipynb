{
  "nbformat": 4,
  "nbformat_minor": 0,
  "metadata": {
    "colab": {
      "name": "Html_conversion.ipynb",
      "provenance": [],
      "mount_file_id": "14tkDA-5wslLZldnOrPKLfFTc6ZnKadM_",
      "authorship_tag": "ABX9TyNtqLx9tq/9CWMfiOCPMjQk",
      "include_colab_link": true
    },
    "kernelspec": {
      "name": "python3",
      "display_name": "Python 3"
    },
    "language_info": {
      "name": "python"
    }
  },
  "cells": [
    {
      "cell_type": "markdown",
      "metadata": {
        "id": "view-in-github",
        "colab_type": "text"
      },
      "source": [
        "<a href=\"https://colab.research.google.com/github/antoinebachand/Derivatives-and-risk-management/blob/main/Html_conversion.ipynb\" target=\"_parent\"><img src=\"https://colab.research.google.com/assets/colab-badge.svg\" alt=\"Open In Colab\"/></a>"
      ]
    },
    {
      "cell_type": "code",
      "execution_count": 5,
      "metadata": {
        "colab": {
          "base_uri": "https://localhost:8080/"
        },
        "id": "AjPpkBpr6gba",
        "outputId": "4423a4d7-e0d4-4191-d0ac-debd44f3e976"
      },
      "outputs": [
        {
          "output_type": "stream",
          "name": "stdout",
          "text": [
            "[NbConvertApp] Converting notebook /content/Multivariate_normal_simulation.ipynb to html\n",
            "[NbConvertApp] Writing 3921369 bytes to /content/Multivariate_normal_simulation.html\n"
          ]
        }
      ],
      "source": [
        "!jupyter nbconvert --to html /content/Multivariate_normal_simulation.ipynb"
      ]
    }
  ]
}