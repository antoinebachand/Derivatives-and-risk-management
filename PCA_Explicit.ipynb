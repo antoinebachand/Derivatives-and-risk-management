{
  "nbformat": 4,
  "nbformat_minor": 0,
  "metadata": {
    "colab": {
      "name": "PCA_Explicit.ipynb",
      "provenance": [],
      "authorship_tag": "ABX9TyMEFdheaF4mLE1ZqTr0/2kl",
      "include_colab_link": true
    },
    "kernelspec": {
      "name": "python3",
      "display_name": "Python 3"
    },
    "language_info": {
      "name": "python"
    }
  },
  "cells": [
    {
      "cell_type": "markdown",
      "metadata": {
        "id": "view-in-github",
        "colab_type": "text"
      },
      "source": [
        "<a href=\"https://colab.research.google.com/github/antoinebachand/Derivatives-and-risk-management/blob/main/PCA_Explicit.ipynb\" target=\"_parent\"><img src=\"https://colab.research.google.com/assets/colab-badge.svg\" alt=\"Open In Colab\"/></a>"
      ]
    },
    {
      "cell_type": "code",
      "execution_count": 96,
      "metadata": {
        "id": "hrGXQ-WLC5Ma"
      },
      "outputs": [],
      "source": [
        "#%% Imports\n",
        "import numpy as np\n",
        "import matplotlib.pyplot as plt"
      ]
    },
    {
      "cell_type": "code",
      "source": [
        "#%% Parameters for the Simulation and Choleski Decomposition\n",
        "mu_1 = 0\n",
        "mu_2 = 0\n",
        "sig_1 = 2\n",
        "sig_2 = 5\n",
        "rho = 0.5\n",
        "\n",
        "var_1 = sig_1**2\n",
        "var_2 = sig_2**2\n",
        "cov_12 = rho*sig_1*sig_2\n",
        "Sigma = np.array([[var_1, cov_12], [cov_12, var_2]])\n",
        "mu = np.array([[mu_1, mu_2]]).T\n",
        "\n",
        "A = np.array([[sig_1, 0], [sig_2*rho, sig_2*np.sqrt(1 - rho**2)]])\n",
        "chol_Sigma = np.linalg.cholesky(Sigma)\n",
        "\n",
        "print(Sigma)\n",
        "#print(A)\n",
        "#print(chol_Sigma)\n",
        "print(A@A.T)"
      ],
      "metadata": {
        "colab": {
          "base_uri": "https://localhost:8080/"
        },
        "id": "h5Untq0UDDBP",
        "outputId": "fcc03e05-8e8b-4036-e278-faad5a773db9"
      },
      "execution_count": 97,
      "outputs": [
        {
          "output_type": "stream",
          "name": "stdout",
          "text": [
            "[[ 4.  5.]\n",
            " [ 5. 25.]]\n",
            "[[ 4.  5.]\n",
            " [ 5. 25.]]\n"
          ]
        }
      ]
    },
    {
      "cell_type": "code",
      "source": [
        "#%% Generate Bivariate Random Numbers\n",
        "n = 2\n",
        "seed = 0\n",
        "rng = np.random.default_rng(seed)\n",
        "# This uses the random numbers in the same order as rng.multivariate normal for comparison\n",
        "# Alternatively: Z = rng.standard_normal((2, n)), which is correct but can't be compared\n",
        "Z = rng.standard_normal(2*n)\n",
        "Z = np.reshape(Z, (n, 2)).T\n",
        "X = np.tile(mu, (1, n)) + A@Z\n",
        "\n",
        "# Test: Theoretical bivariate normal numbers vs numpy bivariate normal numbers\n",
        "rng = np.random.default_rng(seed)\n",
        "X_int = rng.multivariate_normal([mu_1, mu_2], Sigma, n, method='cholesky').T\n",
        "assert (abs(X - X_int) < eps).all(), \"RError: Theoretical bivariate normal numbers inconsistent with Numpy bivariate normal numbers.\"\n",
        "\n",
        "#%% Create Data Generating Function\n",
        "def bivariate_normal_samples(n, mu_1, mu_2, sig_1, sig_2, rho):\n",
        "    mu = np.array([[mu_1, mu_2]]).T\n",
        "    A = np.array([[sig_1, 0], [sig_2*rho, sig_2*np.sqrt(1 - rho**2)]])\n",
        "    Z = rng.standard_normal((2, n))\n",
        "    X = np.tile(mu, (1, n)) + A@Z\n",
        "    return X\n",
        "\n",
        "n = 5\n",
        "rho = 0.9\n",
        "X = bivariate_normal_samples(n, mu_1, mu_2, sig_1, sig_2, rho)\n",
        "plt.plot(X[0, :], X[1, :], 'x')\n",
        "plt.axis('equal')\n",
        "\n",
        "print(X)"
      ],
      "metadata": {
        "colab": {
          "base_uri": "https://localhost:8080/",
          "height": 300
        },
        "id": "1SyLSdqnDQrR",
        "outputId": "53482ba3-3bbb-4bc4-d933-5a7d9970f436"
      },
      "execution_count": 98,
      "outputs": [
        {
          "output_type": "stream",
          "name": "stdout",
          "text": [
            "[[-1.07133875  0.72319011  2.60800009  1.89416193 -1.40747047]\n",
            " [-5.16843434  0.26878255  5.95806809 -0.80542276 -3.64365394]]\n"
          ]
        },
        {
          "output_type": "display_data",
          "data": {
            "text/plain": [
              "<Figure size 432x288 with 1 Axes>"
            ],
            "image/png": "[encoded data removed]"
          },
          "metadata": {
            "needs_background": "light"
          }
        }
      ]
    },
    {
      "cell_type": "code",
      "source": [
        "# Spectral Decomposition\n",
        "\n",
        "#%% Perform PCA on True Covariance Matrix\n",
        "eig_values, eig_vectors = np.linalg.eig(Sigma)\n",
        "\n",
        "#print(Sigma)\n",
        "\n",
        "# Sort from largest to smallest\n",
        "sort_idx = eig_values.argsort()[::-1] # Indices for sorting from largest to smallest\n",
        "Lambda = np.diag(eig_values[sort_idx])\n",
        "Gamma = eig_vectors[:, sort_idx]\n",
        "\n",
        "print(Sigma)\n",
        "print(Gamma)\n",
        "print(Lambda)\n",
        "cov = Gamma@(Lambda)@(Gamma.T)\n",
        "print(cov)"
      ],
      "metadata": {
        "colab": {
          "base_uri": "https://localhost:8080/"
        },
        "id": "pBzj2c6jJHby",
        "outputId": "a501cfd0-831a-4cc0-cf7a-75a12e168c4d"
      },
      "execution_count": 99,
      "outputs": [
        {
          "output_type": "stream",
          "name": "stdout",
          "text": [
            "[[ 4.  5.]\n",
            " [ 5. 25.]]\n",
            "[[-0.22038544 -0.97541287]\n",
            " [-0.97541287  0.22038544]]\n",
            "[[26.12970335  0.        ]\n",
            " [ 0.          2.87029665]]\n",
            "[[ 4.  5.]\n",
            " [ 5. 25.]]\n"
          ]
        }
      ]
    },
    {
      "cell_type": "code",
      "source": [
        "#%% Plot the Principal Directions\n",
        "pd_1 = Gamma[:, 0]\n",
        "pd_2 = Gamma[:, 1]\n",
        "\n",
        "arrow_scale = 1.2\n",
        "\n",
        "plt.plot([mu_1, mu_1 + pd_1[0]*arrow_scale], \n",
        "         [mu_2, mu_2 + pd_1[1]*arrow_scale], 'r',  linewidth=3)\n",
        "plt.plot([mu_1, mu_1 + pd_2[0]*arrow_scale], \n",
        "         [mu_2, mu_2 + pd_2[1]*arrow_scale], 'g',  linewidth=3)\n",
        "\n",
        "plt.xlabel(\"X_1\")\n",
        "plt.ylabel(\"X_2\")\n",
        "\n",
        "pd_1 = pd_1[:, np.newaxis]\n",
        "pd_2 = pd_2[:, np.newaxis]\n",
        "\n",
        "print(f\"gamma_1.T: {pd_1.T}\")\n",
        "print(f\"gamma_2.T: {pd_2.T}\")"
      ],
      "metadata": {
        "colab": {
          "base_uri": "https://localhost:8080/",
          "height": 314
        },
        "id": "edgurFbXLGKb",
        "outputId": "f26e80eb-3a01-40f8-89e4-0e559849775e"
      },
      "execution_count": 88,
      "outputs": [
        {
          "output_type": "stream",
          "name": "stdout",
          "text": [
            "gamma_1.T: [[-0.22038544 -0.97541287]]\n",
            "gamma_2.T: [[-0.97541287  0.22038544]]\n"
          ]
        },
        {
          "output_type": "display_data",
          "data": {
            "text/plain": [
              "<Figure size 432x288 with 1 Axes>"
            ],
            "image/png": "[encoded data removed]"
          },
          "metadata": {
            "needs_background": "light"
          }
        }
      ]
    },
    {
      "cell_type": "code",
      "source": [
        "Y_1 = pd_1.T @ (X - mu)\n",
        "Y_2 = pd_2.T @ (X - mu)\n",
        "\n",
        "print(pd_1.T)\n",
        "print(X-mu)\n",
        "print('The Y bitch')\n",
        "print(Y_1)\n",
        "print(Y_2)\n",
        "\n",
        "coords_1 = Y_1 * pd_1\n",
        "plt.plot(mu_1 + coords_1[0,:], mu_2 + coords_1[1, :], 'r.')\n",
        "\n",
        "coords_2 = Y_2 * pd_2\n",
        "plt.plot(mu_1 + coords_2[0,:], mu_2 + coords_2[1, :], 'g.')"
      ],
      "metadata": {
        "colab": {
          "base_uri": "https://localhost:8080/",
          "height": 386
        },
        "id": "A97viBXac8AB",
        "outputId": "7567d607-4285-4913-8218-962d54added5"
      },
      "execution_count": 108,
      "outputs": [
        {
          "output_type": "stream",
          "name": "stdout",
          "text": [
            "[[-0.22038544 -0.97541287]]\n",
            "[[-1.07133875  0.72319011  2.60800009  1.89416193 -1.40747047]\n",
            " [-5.16843434  0.26878255  5.95806809 -0.80542276 -3.64365394]]\n",
            "The Y bitch\n",
            "[[ 5.27746481 -0.42155452 -6.38634151  0.36817402  3.86425292]]\n",
            "[[-0.09405006 -0.64617318 -1.23080541 -2.02509336  0.56985654]]\n"
          ]
        },
        {
          "output_type": "execute_result",
          "data": {
            "text/plain": [
              "[<matplotlib.lines.Line2D at 0x7f7fb0bda190>]"
            ]
          },
          "metadata": {},
          "execution_count": 108
        },
        {
          "output_type": "display_data",
          "data": {
            "text/plain": [
              "<Figure size 432x288 with 1 Axes>"
            ],
            "image/png": "[encoded data removed]"
          },
          "metadata": {
            "needs_background": "light"
          }
        }
      ]
    },
    {
      "cell_type": "code",
      "source": [
        "#%% Display the Variance of Each Projection\n",
        "var_1 = np.var(Y_1)\n",
        "var_2 = np.var(Y_2)\n",
        "\n",
        "print(f\"Var of pd_1.T @ (X - mu): {var_1}\")\n",
        "print(f\"Var of pd_2.T @ (X - mu): {var_2}\")\n",
        "\n",
        "assert (var_1 >= var_2), \"RError: Y is not sorted by variance.\"\n",
        "\n"
      ],
      "metadata": {
        "colab": {
          "base_uri": "https://localhost:8080/"
        },
        "id": "ZaBNbLjDdLqZ",
        "outputId": "96550378-7f1a-447d-aa23-f79bb470354b"
      },
      "execution_count": 90,
      "outputs": [
        {
          "output_type": "stream",
          "name": "stdout",
          "text": [
            "Var of pd_1.T @ (X - mu): 16.48450948929672\n",
            "Var of pd_2.T @ (X - mu): 0.8038295468459224\n"
          ]
        }
      ]
    },
    {
      "cell_type": "code",
      "source": [
        "#%% Plot the Transformed Data\n",
        "plt.figure(1)\n",
        "plt.plot(Y_1[0, :], Y_2[0, :], 'x')\n",
        "plt.axis('equal')\n",
        "plt.xlabel(\"Y_1\")\n",
        "plt.ylabel(\"Y_2\")"
      ],
      "metadata": {
        "colab": {
          "base_uri": "https://localhost:8080/",
          "height": 298
        },
        "id": "_0mv74nvdVCW",
        "outputId": "e0020d12-7d26-41ef-acc2-2492c483ba61"
      },
      "execution_count": 91,
      "outputs": [
        {
          "output_type": "execute_result",
          "data": {
            "text/plain": [
              "Text(0, 0.5, 'Y_2')"
            ]
          },
          "metadata": {},
          "execution_count": 91
        },
        {
          "output_type": "display_data",
          "data": {
            "text/plain": [
              "<Figure size 432x288 with 1 Axes>"
            ],
            "image/png": "[encoded data removed]"
          },
          "metadata": {
            "needs_background": "light"
          }
        }
      ]
    },
    {
      "cell_type": "code",
      "source": [
        "#%% Confirm the Properties of Y\n",
        "Y = np.vstack((Y_1, Y_2))\n",
        "cov_Y = np.cov(Y) # Must approximate Lambda\n",
        "E_Y = np.mean(Y, axis=1) # Must approximate 0\n",
        "print(E_Y)"
      ],
      "metadata": {
        "colab": {
          "base_uri": "https://localhost:8080/"
        },
        "id": "JMT6X3DJdaPo",
        "outputId": "9778b20b-9980-4863-fc0c-b0ef9e95196c"
      },
      "execution_count": 92,
      "outputs": [
        {
          "output_type": "stream",
          "name": "stdout",
          "text": [
            "[ 0.54039914 -0.68525309]\n"
          ]
        }
      ]
    },
    {
      "cell_type": "code",
      "source": [
        "#%% Principle Components as Factors\n",
        "Gamma_1 = pd_1\n",
        "Gamma_2 = pd_2\n",
        "\n",
        "X_test = mu + Gamma_1 * Y_1 + Gamma_2 * Y_2\n",
        "X_model = mu + Gamma_1 * Y_1\n",
        "print(X_model)\n",
        "\n",
        "plt.figure(2)\n",
        "plt.plot(X_model[0, :], X_model[1, :], 'x')\n",
        "plt.axis('equal')\n",
        "plt.xlabel(\"X_model_1\")\n",
        "plt.ylabel(\"X_model_2\")"
      ],
      "metadata": {
        "colab": {
          "base_uri": "https://localhost:8080/",
          "height": 332
        },
        "id": "gXuwej_id_Aa",
        "outputId": "08762476-669e-4105-ebe2-1b3a69fe1cd6"
      },
      "execution_count": 110,
      "outputs": [
        {
          "output_type": "stream",
          "name": "stdout",
          "text": [
            "[[-1.16307638  0.09290448  1.40745666 -0.08114019 -0.85162507]\n",
            " [-5.14770707  0.41118971  6.22931967 -0.35912168 -3.76924202]]\n"
          ]
        },
        {
          "output_type": "execute_result",
          "data": {
            "text/plain": [
              "Text(0, 0.5, 'X_model_2')"
            ]
          },
          "metadata": {},
          "execution_count": 110
        },
        {
          "output_type": "display_data",
          "data": {
            "text/plain": [
              "<Figure size 432x288 with 1 Axes>"
            ],
            "image/png": "[encoded data removed]"
          },
          "metadata": {
            "needs_background": "light"
          }
        }
      ]
    }
  ]
}